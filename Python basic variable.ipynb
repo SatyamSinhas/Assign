{
 "cells": [
  {
   "cell_type": "code",
   "execution_count": 5,
   "id": "8804d3b8-7b15-43af-a062-5cb67b78d04d",
   "metadata": {},
   "outputs": [
    {
     "data": {
      "text/plain": [
       "3"
      ]
     },
     "execution_count": 5,
     "metadata": {},
     "output_type": "execute_result"
    }
   ],
   "source": [
    "1+2"
   ]
  },
  {
   "cell_type": "code",
   "execution_count": 11,
   "id": "4dca9469-2e13-4ebc-8836-d296588a6a3f",
   "metadata": {},
   "outputs": [],
   "source": [
    "A = \"satyam\""
   ]
  },
  {
   "cell_type": "code",
   "execution_count": 12,
   "id": "721a34a1-e92d-4f7e-9f4a-d9863280b0cb",
   "metadata": {},
   "outputs": [
    {
     "data": {
      "text/plain": [
       "str"
      ]
     },
     "execution_count": 12,
     "metadata": {},
     "output_type": "execute_result"
    }
   ],
   "source": [
    "type(A)"
   ]
  },
  {
   "cell_type": "code",
   "execution_count": 13,
   "id": "9a03257f-d62d-4797-8d42-7eb71639af67",
   "metadata": {},
   "outputs": [
    {
     "data": {
      "text/plain": [
       "'satyam'"
      ]
     },
     "execution_count": 13,
     "metadata": {},
     "output_type": "execute_result"
    }
   ],
   "source": [
    "A"
   ]
  },
  {
   "cell_type": "code",
   "execution_count": 14,
   "id": "9e5a0a95-d774-416f-a434-6d45613c6b6d",
   "metadata": {},
   "outputs": [],
   "source": [
    "#satyam\n",
    "s = 10"
   ]
  },
  {
   "cell_type": "code",
   "execution_count": 15,
   "id": "640dcff8-8578-47d2-9aa3-c8ec6ee3a0bb",
   "metadata": {},
   "outputs": [
    {
     "data": {
      "text/plain": [
       "10"
      ]
     },
     "execution_count": 15,
     "metadata": {},
     "output_type": "execute_result"
    }
   ],
   "source": [
    "s"
   ]
  },
  {
   "cell_type": "code",
   "execution_count": 1,
   "id": "64e90ed5-35bf-4a64-bd5d-f939d2e818f6",
   "metadata": {},
   "outputs": [],
   "source": [
    "r = 10"
   ]
  },
  {
   "cell_type": "code",
   "execution_count": 2,
   "id": "1436effc-befc-4ab3-ab72-77d6e668705f",
   "metadata": {},
   "outputs": [],
   "source": [
    "s8 = \"sa\""
   ]
  },
  {
   "cell_type": "code",
   "execution_count": 5,
   "id": "785e2f5b-9e62-4edd-9456-816c52027490",
   "metadata": {},
   "outputs": [
    {
     "name": "stdin",
     "output_type": "stream",
     "text": [
      " dsvge\n"
     ]
    }
   ],
   "source": [
    "h = input()"
   ]
  },
  {
   "cell_type": "code",
   "execution_count": 6,
   "id": "ab68af91-cf9b-4521-96cf-9148e1bed629",
   "metadata": {},
   "outputs": [
    {
     "data": {
      "text/plain": [
       "'dsvge'"
      ]
     },
     "execution_count": 6,
     "metadata": {},
     "output_type": "execute_result"
    }
   ],
   "source": [
    "h"
   ]
  },
  {
   "cell_type": "code",
   "execution_count": 1,
   "id": "dfbd09e8-0c9b-47c0-b7b3-3e79819fa95d",
   "metadata": {},
   "outputs": [],
   "source": [
    "s4 = \"satyam\""
   ]
  },
  {
   "cell_type": "code",
   "execution_count": 2,
   "id": "281d79f1-9d89-4fdc-a6c8-4b78a19590bc",
   "metadata": {},
   "outputs": [
    {
     "data": {
      "text/plain": [
       "''"
      ]
     },
     "execution_count": 2,
     "metadata": {},
     "output_type": "execute_result"
    }
   ],
   "source": [
    "s4[5:1]"
   ]
  },
  {
   "cell_type": "code",
   "execution_count": 5,
   "id": "0bf59a3d-0f91-4beb-9913-fb6b2502d43a",
   "metadata": {},
   "outputs": [
    {
     "data": {
      "text/plain": [
       "'mayt'"
      ]
     },
     "execution_count": 5,
     "metadata": {},
     "output_type": "execute_result"
    }
   ],
   "source": [
    "s4[5:1:-1]"
   ]
  },
  {
   "cell_type": "code",
   "execution_count": 8,
   "id": "8c052ce1-2a9b-4fa2-8202-14ec559c290f",
   "metadata": {},
   "outputs": [
    {
     "data": {
      "text/plain": [
       "'may'"
      ]
     },
     "execution_count": 8,
     "metadata": {},
     "output_type": "execute_result"
    }
   ],
   "source": [
    "s4[-1:-4:-1]"
   ]
  },
  {
   "cell_type": "code",
   "execution_count": 10,
   "id": "23341b20-fdaf-4829-930c-3a636aab22ad",
   "metadata": {},
   "outputs": [
    {
     "data": {
      "text/plain": [
       "'mayta'"
      ]
     },
     "execution_count": 10,
     "metadata": {},
     "output_type": "execute_result"
    }
   ],
   "source": [
    "s4[5:0:-1]"
   ]
  },
  {
   "cell_type": "code",
   "execution_count": 12,
   "id": "f02a0d9e-2f4d-4da2-8dca-f9e6695eddec",
   "metadata": {},
   "outputs": [
    {
     "data": {
      "text/plain": [
       "'maytas'"
      ]
     },
     "execution_count": 12,
     "metadata": {},
     "output_type": "execute_result"
    }
   ],
   "source": [
    "s4[5:-7:-1]"
   ]
  },
  {
   "cell_type": "code",
   "execution_count": 14,
   "id": "4ffdd9e4-aa6c-43e5-9c42-743d0bcb5d6a",
   "metadata": {},
   "outputs": [
    {
     "data": {
      "text/plain": [
       "'maytas'"
      ]
     },
     "execution_count": 14,
     "metadata": {},
     "output_type": "execute_result"
    }
   ],
   "source": [
    "s4[5: :-1]"
   ]
  },
  {
   "cell_type": "code",
   "execution_count": null,
   "id": "94b71a8a-4cd2-402c-9e20-a8dc7652879a",
   "metadata": {},
   "outputs": [],
   "source": []
  }
 ],
 "metadata": {
  "kernelspec": {
   "display_name": "Python 3 (ipykernel)",
   "language": "python",
   "name": "python3"
  },
  "language_info": {
   "codemirror_mode": {
    "name": "ipython",
    "version": 3
   },
   "file_extension": ".py",
   "mimetype": "text/x-python",
   "name": "python",
   "nbconvert_exporter": "python",
   "pygments_lexer": "ipython3",
   "version": "3.10.8"
  }
 },
 "nbformat": 4,
 "nbformat_minor": 5
}
